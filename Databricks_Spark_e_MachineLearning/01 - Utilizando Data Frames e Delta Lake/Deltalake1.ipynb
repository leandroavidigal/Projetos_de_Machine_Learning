{
 "cells": [
  {
   "cell_type": "markdown",
   "metadata": {},
   "source": [
    "## Executando Consultas SQL em Databricks"
   ]
  },
  {
   "cell_type": "code",
   "execution_count": null,
   "metadata": {
    "application/vnd.databricks.v1+cell": {
     "cellMetadata": {
      "byteLimit": 2048000,
      "implicitDf": true,
      "rowLimit": 10000
     },
     "inputWidgets": {},
     "nuid": "1475b03b-f9d2-4c94-b84e-c073ec9dff8d",
     "showTitle": false,
     "title": ""
    }
   },
   "outputs": [],
   "source": [
    "%sql\n",
    "select * from carros"
   ]
  },
  {
   "cell_type": "markdown",
   "metadata": {},
   "source": [
    "Este comando SQL é executado diretamente no contexto do Databricks para visualizar o conteúdo da tabela carros. O uso de %sql permite a execução de consultas SQL nativas dentro do notebook."
   ]
  },
  {
   "cell_type": "markdown",
   "metadata": {},
   "source": [
    "### Salvando Dados no Formato Delta"
   ]
  },
  {
   "cell_type": "code",
   "execution_count": null,
   "metadata": {
    "application/vnd.databricks.v1+cell": {
     "cellMetadata": {
      "byteLimit": 2048000,
      "rowLimit": 10000
     },
     "inputWidgets": {},
     "nuid": "101825ae-d301-4495-a5df-063b66272b42",
     "showTitle": false,
     "title": ""
    }
   },
   "outputs": [],
   "source": [
    "from pyspark.sql.functions import col, when\n",
    "carros_df = spark.table(\"carros\")\n",
    "carros_df.write.format(\"delta\").save(\"/tmp/carros_delta\")"
   ]
  },
  {
   "cell_type": "markdown",
   "metadata": {},
   "source": [
    "Aqui, carregamos uma tabela chamada carros em um DataFrame e então salvamos esse DataFrame no formato Delta no caminho especificado. O formato Delta é um formato de armazenamento otimizado para grandes conjuntos de dados, que suporta operações de ACID para transações em big data."
   ]
  },
  {
   "cell_type": "markdown",
   "metadata": {},
   "source": [
    "### Visualizando Diretórios de Arquivos Delta"
   ]
  },
  {
   "cell_type": "code",
   "execution_count": null,
   "metadata": {
    "application/vnd.databricks.v1+cell": {
     "cellMetadata": {
      "byteLimit": 2048000,
      "rowLimit": 10000
     },
     "inputWidgets": {},
     "nuid": "664a7ddf-fb8a-4ccc-badd-8a9bdfa357d6",
     "showTitle": false,
     "title": ""
    }
   },
   "outputs": [],
   "source": [
    "%fs ls /tmp/carros_delta"
   ]
  },
  {
   "cell_type": "markdown",
   "metadata": {},
   "source": [
    "Este comando lista os arquivos dentro do diretório especificado onde os dados foram salvos no formato Delta. É útil para verificar a estrutura de diretório e os arquivos de metadados criados pelo Delta Lake."
   ]
  },
  {
   "cell_type": "markdown",
   "metadata": {},
   "source": [
    "### Carregando e Visualizando Dados Delta"
   ]
  },
  {
   "cell_type": "code",
   "execution_count": null,
   "metadata": {
    "application/vnd.databricks.v1+cell": {
     "cellMetadata": {
      "byteLimit": 2048000,
      "rowLimit": 10000
     },
     "inputWidgets": {},
     "nuid": "82f8919f-c448-4bcd-95a0-2d7e4d09e5c9",
     "showTitle": false,
     "title": ""
    }
   },
   "outputs": [],
   "source": [
    "delta_df = spark.read.format(\"delta\").load(\"/tmp/carros_delta\")\n",
    "delta_df.show()"
   ]
  },
  {
   "cell_type": "markdown",
   "metadata": {},
   "source": [
    "Carregamos os dados salvos em formato Delta de volta para um DataFrame e usamos o método show() para visualizar os dados, demonstrando a facilidade com que os dados podem ser acessados e verificados."
   ]
  },
  {
   "cell_type": "markdown",
   "metadata": {},
   "source": [
    "### Atualizando Dados em um DataFrame Delta"
   ]
  },
  {
   "cell_type": "code",
   "execution_count": null,
   "metadata": {
    "application/vnd.databricks.v1+cell": {
     "cellMetadata": {
      "byteLimit": 2048000,
      "rowLimit": 10000
     },
     "inputWidgets": {},
     "nuid": "47d755cc-e8d0-4801-8ee1-ccc30d19df21",
     "showTitle": false,
     "title": ""
    }
   },
   "outputs": [],
   "source": [
    "#atualiza tipo de motor\n",
    "delta_df = delta_df.withColumn('TipoMotor',when(col('TipoMotor') == 0, 2).otherwise(col('TipoMotor')))"
   ]
  },
  {
   "cell_type": "code",
   "execution_count": null,
   "metadata": {
    "application/vnd.databricks.v1+cell": {
     "cellMetadata": {
      "byteLimit": 2048000,
      "rowLimit": 10000
     },
     "inputWidgets": {},
     "nuid": "bec22ba1-d17a-4cea-b680-229b2a02c56b",
     "showTitle": false,
     "title": ""
    }
   },
   "outputs": [],
   "source": [
    "#grava, carrega e exibe\n",
    "delta_df.write.format(\"delta\").mode(\"overwrite\").save(\"/tmp/carros_delta\")\n",
    "updated_delta_df = spark.read.format(\"delta\").load(\"/tmp/carros_delta\")\n",
    "updated_delta_df.show()"
   ]
  },
  {
   "cell_type": "markdown",
   "metadata": {},
   "source": [
    "Este bloco de código atualiza a coluna TipoMotor no DataFrame, substituindo valores 0 por 2. Em seguida, os dados atualizados são salvos no mesmo local, substituindo os dados anteriores. Demonstramos como carregar e visualizar os dados atualizados."
   ]
  },
  {
   "cell_type": "markdown",
   "metadata": {},
   "source": [
    "### Executando Rollback em Dados Delta"
   ]
  },
  {
   "cell_type": "code",
   "execution_count": null,
   "metadata": {
    "application/vnd.databricks.v1+cell": {
     "cellMetadata": {
      "byteLimit": 2048000,
      "rowLimit": 10000
     },
     "inputWidgets": {},
     "nuid": "cd345025-9c12-4d4d-b493-fe72ffceae93",
     "showTitle": false,
     "title": ""
    }
   },
   "outputs": [],
   "source": [
    "#rollback da tabela\n",
    "version0_df = spark.read.format(\"delta\").option(\"versionAsOf\", 0).load(\"/tmp/carros_delta\")\n",
    "version0_df.show()"
   ]
  },
  {
   "cell_type": "markdown",
   "metadata": {},
   "source": [
    "Aqui, fazemos um rollback para a versão inicial da tabela Delta usando a opção versionAsOf. Isso é extremamente útil para casos onde se deseja reverter para um estado anterior dos dados."
   ]
  },
  {
   "cell_type": "markdown",
   "metadata": {},
   "source": [
    "### Visualizando Versão Atual Após Rollback"
   ]
  },
  {
   "cell_type": "code",
   "execution_count": null,
   "metadata": {
    "application/vnd.databricks.v1+cell": {
     "cellMetadata": {
      "byteLimit": 2048000,
      "rowLimit": 10000
     },
     "inputWidgets": {},
     "nuid": "5343c28a-82e7-4d1f-9d97-c3c594bb9772",
     "showTitle": false,
     "title": ""
    }
   },
   "outputs": [],
   "source": [
    "#versao atual continua\n",
    "updated_delta_df.show()"
   ]
  },
  {
   "cell_type": "markdown",
   "metadata": {},
   "source": [
    "### Apagando Dados Delta"
   ]
  },
  {
   "cell_type": "code",
   "execution_count": null,
   "metadata": {
    "application/vnd.databricks.v1+cell": {
     "cellMetadata": {
      "byteLimit": 2048000,
      "rowLimit": 10000
     },
     "inputWidgets": {},
     "nuid": "d8d5bcba-93d9-4037-ba8a-4fea4c95098e",
     "showTitle": false,
     "title": ""
    }
   },
   "outputs": [],
   "source": [
    "#apaga delta\n",
    "dbutils.fs.rm(\"/tmp/carros_delta\", recurse=True)"
   ]
  },
  {
   "cell_type": "markdown",
   "metadata": {
    "application/vnd.databricks.v1+cell": {
     "cellMetadata": {},
     "inputWidgets": {},
     "nuid": "c14e6b91-a9ea-44e9-bee5-199cb11453fa",
     "showTitle": false,
     "title": ""
    }
   },
   "source": [
    "Este comando apaga o diretório e todos os arquivos associados aos dados Delta, limpando o espaço e removendo dados que não são mais necessários. É importante para a gestão eficiente do armazenamento."
   ]
  },
  {
   "cell_type": "code",
   "execution_count": null,
   "metadata": {},
   "outputs": [],
   "source": []
  }
 ],
 "metadata": {
  "application/vnd.databricks.v1+notebook": {
   "dashboards": [],
   "language": "python",
   "notebookMetadata": {
    "mostRecentlyExecutedCommandWithImplicitDF": {
     "commandId": 4494218772098609,
     "dataframes": [
      "_sqldf"
     ]
    },
    "pythonIndentUnit": 4
   },
   "notebookName": "Deltalake1",
   "widgets": {}
  },
  "kernelspec": {
   "display_name": "Python 3 (ipykernel)",
   "language": "python",
   "name": "python3"
  },
  "language_info": {
   "codemirror_mode": {
    "name": "ipython",
    "version": 3
   },
   "file_extension": ".py",
   "mimetype": "text/x-python",
   "name": "python",
   "nbconvert_exporter": "python",
   "pygments_lexer": "ipython3",
   "version": "3.9.12"
  }
 },
 "nbformat": 4,
 "nbformat_minor": 1
}
