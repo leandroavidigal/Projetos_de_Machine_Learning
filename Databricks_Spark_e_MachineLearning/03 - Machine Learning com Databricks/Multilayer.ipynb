{
 "cells": [
  {
   "cell_type": "markdown",
   "metadata": {
    "application/vnd.databricks.v1+cell": {
     "cellMetadata": {},
     "inputWidgets": {},
     "nuid": "3d4f6805-7148-48fe-b040-524ec20b7927",
     "showTitle": false,
     "title": ""
    }
   },
   "source": [
    "## Classificação com Redes Neurais utilizando Multi-Layer Perceptron (MLP) no Databricks\n"
   ]
  },
  {
   "cell_type": "markdown",
   "metadata": {
    "application/vnd.databricks.v1+cell": {
     "cellMetadata": {},
     "inputWidgets": {},
     "nuid": "30e08429-ed33-45b4-8a4b-eabe19ce75ab",
     "showTitle": false,
     "title": ""
    }
   },
   "source": [
    "### Desenvolvimento\n",
    "####Importação das Bibliotecas e Carregamento dos Dados\n",
    "Começamos importando o conjunto de dados iris.csv e carregando-o em um DataFrame do Spark. Este conjunto de dados contém 150 registros de flores, cada um com quatro características e a espécie correspondente."
   ]
  },
  {
   "cell_type": "code",
   "execution_count": 0,
   "metadata": {
    "application/vnd.databricks.v1+cell": {
     "cellMetadata": {
      "byteLimit": 2048000,
      "rowLimit": 10000
     },
     "inputWidgets": {},
     "nuid": "198444af-b2f5-422c-bfbf-5210457476a6",
     "showTitle": false,
     "title": ""
    }
   },
   "outputs": [
    {
     "output_type": "stream",
     "name": "stdout",
     "output_type": "stream",
     "text": [
      "150\n+-----------+----------+-----------+----------+-----------+\n|sepallength|sepalwidth|petallength|petalwidth|      class|\n+-----------+----------+-----------+----------+-----------+\n|        5.1|       3.5|        1.4|       0.2|Iris-setosa|\n|        4.9|       3.0|        1.4|       0.2|Iris-setosa|\n|        4.7|       3.2|        1.3|       0.2|Iris-setosa|\n|        4.6|       3.1|        1.5|       0.2|Iris-setosa|\n|        5.0|       3.6|        1.4|       0.2|Iris-setosa|\n+-----------+----------+-----------+----------+-----------+\nonly showing top 5 rows\n\n"
     ]
    }
   ],
   "source": [
    "iris = spark.read.csv(\"/FileStore/tables/iris.csv\",inferSchema=True, header=True)\n",
    "print(iris.count())\n",
    "iris.show(5)"
   ]
  },
  {
   "cell_type": "markdown",
   "metadata": {
    "application/vnd.databricks.v1+cell": {
     "cellMetadata": {},
     "inputWidgets": {},
     "nuid": "5f6e77ed-1f0f-4685-873e-bf66f1779272",
     "showTitle": false,
     "title": ""
    }
   },
   "source": [
    "### Preparação dos Dados: Vetorização dos Atributos\n",
    "Para treinar a rede neural, precisamos vetorizar as características numéricas (sepallength, sepalwidth, petallength, petalwidth) em um único vetor que será usado como entrada (features) para o modelo."
   ]
  },
  {
   "cell_type": "code",
   "execution_count": 0,
   "metadata": {
    "application/vnd.databricks.v1+cell": {
     "cellMetadata": {
      "byteLimit": 2048000,
      "rowLimit": 10000
     },
     "inputWidgets": {},
     "nuid": "adee227d-e916-4d06-a885-755a99e4b94c",
     "showTitle": false,
     "title": ""
    }
   },
   "outputs": [],
   "source": [
    "from pyspark.ml.feature import VectorAssembler"
   ]
  },
  {
   "cell_type": "code",
   "execution_count": 0,
   "metadata": {
    "application/vnd.databricks.v1+cell": {
     "cellMetadata": {
      "byteLimit": 2048000,
      "rowLimit": 10000
     },
     "inputWidgets": {},
     "nuid": "90d532c7-5065-4aa7-827e-f7563f7f7a29",
     "showTitle": false,
     "title": ""
    }
   },
   "outputs": [
    {
     "output_type": "stream",
     "name": "stdout",
     "output_type": "stream",
     "text": [
      "+-----------+----------+-----------+----------+-----------+-----------------+\n|sepallength|sepalwidth|petallength|petalwidth|      class|     independente|\n+-----------+----------+-----------+----------+-----------+-----------------+\n|        5.1|       3.5|        1.4|       0.2|Iris-setosa|[5.1,3.5,1.4,0.2]|\n|        4.9|       3.0|        1.4|       0.2|Iris-setosa|[4.9,3.0,1.4,0.2]|\n|        4.7|       3.2|        1.3|       0.2|Iris-setosa|[4.7,3.2,1.3,0.2]|\n|        4.6|       3.1|        1.5|       0.2|Iris-setosa|[4.6,3.1,1.5,0.2]|\n|        5.0|       3.6|        1.4|       0.2|Iris-setosa|[5.0,3.6,1.4,0.2]|\n+-----------+----------+-----------+----------+-----------+-----------------+\nonly showing top 5 rows\n\n"
     ]
    }
   ],
   "source": [
    "asb = VectorAssembler(inputCols=[\"sepallength\", \"sepalwidth\", \"petallength\", \"petalwidth\"], outputCol=\"independente\")\n",
    "irisas = asb.transform(iris)\n",
    "irisas.show(5)"
   ]
  },
  {
   "cell_type": "markdown",
   "metadata": {
    "application/vnd.databricks.v1+cell": {
     "cellMetadata": {},
     "inputWidgets": {},
     "nuid": "92e7a3bd-c9e4-4c20-992d-8380ba2045e6",
     "showTitle": false,
     "title": ""
    }
   },
   "source": [
    "### Codificação das Classes\n",
    "As classes de flores (class) precisam ser convertidas em valores numéricos para serem processadas pela rede neural. Utilizamos o StringIndexer para converter as classes em índices numéricos."
   ]
  },
  {
   "cell_type": "code",
   "execution_count": 0,
   "metadata": {
    "application/vnd.databricks.v1+cell": {
     "cellMetadata": {
      "byteLimit": 2048000,
      "rowLimit": 10000
     },
     "inputWidgets": {},
     "nuid": "58dab746-f73f-4d06-95ce-8f7b331c77c6",
     "showTitle": false,
     "title": ""
    }
   },
   "outputs": [],
   "source": [
    "from pyspark.ml.feature import StringIndexer"
   ]
  },
  {
   "cell_type": "code",
   "execution_count": 0,
   "metadata": {
    "application/vnd.databricks.v1+cell": {
     "cellMetadata": {
      "byteLimit": 2048000,
      "rowLimit": 10000
     },
     "inputWidgets": {},
     "nuid": "f74cf9c7-17b3-4629-9b3e-66f1b14192af",
     "showTitle": false,
     "title": ""
    }
   },
   "outputs": [
    {
     "output_type": "stream",
     "name": "stdout",
     "output_type": "stream",
     "text": [
      "+-----------+----------+-----------+----------+-----------+-----------------+----------+\n|sepallength|sepalwidth|petallength|petalwidth|      class|     independente|dependente|\n+-----------+----------+-----------+----------+-----------+-----------------+----------+\n|        5.1|       3.5|        1.4|       0.2|Iris-setosa|[5.1,3.5,1.4,0.2]|       0.0|\n|        4.9|       3.0|        1.4|       0.2|Iris-setosa|[4.9,3.0,1.4,0.2]|       0.0|\n|        4.7|       3.2|        1.3|       0.2|Iris-setosa|[4.7,3.2,1.3,0.2]|       0.0|\n|        4.6|       3.1|        1.5|       0.2|Iris-setosa|[4.6,3.1,1.5,0.2]|       0.0|\n|        5.0|       3.6|        1.4|       0.2|Iris-setosa|[5.0,3.6,1.4,0.2]|       0.0|\n|        5.4|       3.9|        1.7|       0.4|Iris-setosa|[5.4,3.9,1.7,0.4]|       0.0|\n|        4.6|       3.4|        1.4|       0.3|Iris-setosa|[4.6,3.4,1.4,0.3]|       0.0|\n|        5.0|       3.4|        1.5|       0.2|Iris-setosa|[5.0,3.4,1.5,0.2]|       0.0|\n|        4.4|       2.9|        1.4|       0.2|Iris-setosa|[4.4,2.9,1.4,0.2]|       0.0|\n|        4.9|       3.1|        1.5|       0.1|Iris-setosa|[4.9,3.1,1.5,0.1]|       0.0|\n|        5.4|       3.7|        1.5|       0.2|Iris-setosa|[5.4,3.7,1.5,0.2]|       0.0|\n|        4.8|       3.4|        1.6|       0.2|Iris-setosa|[4.8,3.4,1.6,0.2]|       0.0|\n|        4.8|       3.0|        1.4|       0.1|Iris-setosa|[4.8,3.0,1.4,0.1]|       0.0|\n|        4.3|       3.0|        1.1|       0.1|Iris-setosa|[4.3,3.0,1.1,0.1]|       0.0|\n|        5.8|       4.0|        1.2|       0.2|Iris-setosa|[5.8,4.0,1.2,0.2]|       0.0|\n|        5.7|       4.4|        1.5|       0.4|Iris-setosa|[5.7,4.4,1.5,0.4]|       0.0|\n|        5.4|       3.9|        1.3|       0.4|Iris-setosa|[5.4,3.9,1.3,0.4]|       0.0|\n|        5.1|       3.5|        1.4|       0.3|Iris-setosa|[5.1,3.5,1.4,0.3]|       0.0|\n|        5.7|       3.8|        1.7|       0.3|Iris-setosa|[5.7,3.8,1.7,0.3]|       0.0|\n|        5.1|       3.8|        1.5|       0.3|Iris-setosa|[5.1,3.8,1.5,0.3]|       0.0|\n+-----------+----------+-----------+----------+-----------+-----------------+----------+\nonly showing top 20 rows\n\n"
     ]
    }
   ],
   "source": [
    "ind = StringIndexer(inputCol=\"class\", outputCol=\"dependente\")\n",
    "irisas = ind.fit(irisas).transform(irisas)\n",
    "irisas.show()"
   ]
  },
  {
   "cell_type": "markdown",
   "metadata": {
    "application/vnd.databricks.v1+cell": {
     "cellMetadata": {},
     "inputWidgets": {},
     "nuid": "ba6858a8-9d08-48da-a888-0f6a3281f8cd",
     "showTitle": false,
     "title": ""
    }
   },
   "source": [
    "### Divisão dos Dados em Conjuntos de Treinamento e Teste\n",
    "Dividimos o conjunto de dados em dois subconjuntos: 70% dos dados serão usados para treinar o modelo, enquanto os 30% restantes serão utilizados para testar o desempenho da rede neural."
   ]
  },
  {
   "cell_type": "code",
   "execution_count": 0,
   "metadata": {
    "application/vnd.databricks.v1+cell": {
     "cellMetadata": {
      "byteLimit": 2048000,
      "rowLimit": 10000
     },
     "inputWidgets": {},
     "nuid": "c39633ba-41b6-4692-958f-5b1745432a6f",
     "showTitle": false,
     "title": ""
    }
   },
   "outputs": [
    {
     "output_type": "stream",
     "name": "stdout",
     "output_type": "stream",
     "text": [
      "104\n46\n"
     ]
    }
   ],
   "source": [
    "irisTreino, irisTeste = irisas.randomSplit([0.7,0.3])\n",
    "print(irisTreino.count())\n",
    "print(irisTeste.count())"
   ]
  },
  {
   "cell_type": "markdown",
   "metadata": {
    "application/vnd.databricks.v1+cell": {
     "cellMetadata": {},
     "inputWidgets": {},
     "nuid": "d0b9107b-90b8-4e07-91f8-f9d0a981e9bb",
     "showTitle": false,
     "title": ""
    }
   },
   "source": [
    "### Construção e Treinamento do Modelo de Multi-Layer Perceptron (MLP)\n",
    "Agora, construímos e treinamos a rede neural utilizando o MultilayerPerceptronClassifier. Definimos uma arquitetura com 4 neurônios de entrada (um para cada característica), duas camadas ocultas com 5 e 4 neurônios, respectivamente, e 3 neurônios de saída (um para cada classe de flor)."
   ]
  },
  {
   "cell_type": "code",
   "execution_count": 0,
   "metadata": {
    "application/vnd.databricks.v1+cell": {
     "cellMetadata": {
      "byteLimit": 2048000,
      "rowLimit": 10000
     },
     "inputWidgets": {},
     "nuid": "1bb2cc98-80ee-4ae6-b6a1-0c73489a633e",
     "showTitle": false,
     "title": ""
    }
   },
   "outputs": [],
   "source": [
    "from pyspark.ml.classification import MultilayerPerceptronClassifier"
   ]
  },
  {
   "cell_type": "code",
   "execution_count": 0,
   "metadata": {
    "application/vnd.databricks.v1+cell": {
     "cellMetadata": {
      "byteLimit": 2048000,
      "rowLimit": 10000
     },
     "inputWidgets": {},
     "nuid": "441581cb-90cc-4488-82be-443e03cc466b",
     "showTitle": false,
     "title": ""
    }
   },
   "outputs": [],
   "source": [
    "mlp = MultilayerPerceptronClassifier(maxIter=100, layers=[4, 5, 4, 3], featuresCol=\"independente\", labelCol=\"dependente\")\n",
    "modelo = mlp.fit(irisTreino)"
   ]
  },
  {
   "cell_type": "markdown",
   "metadata": {
    "application/vnd.databricks.v1+cell": {
     "cellMetadata": {},
     "inputWidgets": {},
     "nuid": "1020c2aa-4396-4102-b671-9e31622fa886",
     "showTitle": false,
     "title": ""
    }
   },
   "source": [
    "### Previsão com o Modelo Treinado\n",
    "Utilizamos o modelo treinado para prever as classes das flores no conjunto de teste. As previsões são comparadas com os valores reais para avaliar a precisão do modelo."
   ]
  },
  {
   "cell_type": "code",
   "execution_count": 0,
   "metadata": {
    "application/vnd.databricks.v1+cell": {
     "cellMetadata": {
      "byteLimit": 2048000,
      "rowLimit": 10000
     },
     "inputWidgets": {},
     "nuid": "062e1203-4f2f-4268-b12b-96a2243751d8",
     "showTitle": false,
     "title": ""
    }
   },
   "outputs": [
    {
     "output_type": "stream",
     "name": "stdout",
     "output_type": "stream",
     "text": [
      "+----------+----------+\n|dependente|prediction|\n+----------+----------+\n|       0.0|       0.0|\n|       0.0|       0.0|\n|       0.0|       0.0|\n|       0.0|       0.0|\n|       0.0|       0.0|\n|       2.0|       2.0|\n|       0.0|       0.0|\n|       0.0|       0.0|\n|       0.0|       0.0|\n|       0.0|       0.0|\n|       0.0|       0.0|\n|       0.0|       0.0|\n|       0.0|       0.0|\n|       0.0|       0.0|\n|       0.0|       0.0|\n|       0.0|       0.0|\n|       1.0|       1.0|\n|       0.0|       0.0|\n|       1.0|       1.0|\n|       1.0|       1.0|\n|       2.0|       2.0|\n|       1.0|       1.0|\n|       0.0|       0.0|\n|       1.0|       1.0|\n|       0.0|       0.0|\n|       1.0|       1.0|\n|       2.0|       2.0|\n|       1.0|       1.0|\n|       2.0|       2.0|\n|       2.0|       2.0|\n|       1.0|       2.0|\n|       2.0|       2.0|\n|       2.0|       2.0|\n|       2.0|       2.0|\n|       1.0|       1.0|\n|       2.0|       2.0|\n|       2.0|       2.0|\n|       1.0|       1.0|\n|       1.0|       1.0|\n|       2.0|       2.0|\n|       2.0|       2.0|\n|       2.0|       2.0|\n+----------+----------+\nonly showing top 42 rows\n\n"
     ]
    }
   ],
   "source": [
    "previsao = modelo.transform(irisTeste)\n",
    "previsao.select(\"dependente\",\"prediction\").show(42)"
   ]
  },
  {
   "cell_type": "markdown",
   "metadata": {
    "application/vnd.databricks.v1+cell": {
     "cellMetadata": {},
     "inputWidgets": {},
     "nuid": "7abd5157-84fd-4906-aa16-debc4d7e72f0",
     "showTitle": false,
     "title": ""
    }
   },
   "source": [
    "### Avaliação da Performance do Modelo\n",
    "Para quantificar a precisão do modelo, utilizamos a métrica de acurácia. A acurácia é definida como a proporção de previsões corretas em relação ao total de previsões."
   ]
  },
  {
   "cell_type": "code",
   "execution_count": 0,
   "metadata": {
    "application/vnd.databricks.v1+cell": {
     "cellMetadata": {
      "byteLimit": 2048000,
      "rowLimit": 10000
     },
     "inputWidgets": {},
     "nuid": "05628fec-c39b-4901-a298-aa2a34f76a28",
     "showTitle": false,
     "title": ""
    }
   },
   "outputs": [],
   "source": [
    "from pyspark.ml.evaluation import MulticlassClassificationEvaluator"
   ]
  },
  {
   "cell_type": "code",
   "execution_count": 0,
   "metadata": {
    "application/vnd.databricks.v1+cell": {
     "cellMetadata": {
      "byteLimit": 2048000,
      "rowLimit": 10000
     },
     "inputWidgets": {},
     "nuid": "25789032-ef08-4e02-9500-0491575a7ce3",
     "showTitle": false,
     "title": ""
    }
   },
   "outputs": [
    {
     "output_type": "stream",
     "name": "stdout",
     "output_type": "stream",
     "text": [
      "0.9782608695652174\n"
     ]
    }
   ],
   "source": [
    "performance = MulticlassClassificationEvaluator(labelCol=\"dependente\", predictionCol=\"prediction\", metricName=\"accuracy\")\n",
    "acuracia = performance.evaluate(previsao)\n",
    "print(acuracia)"
   ]
  },
  {
   "cell_type": "markdown",
   "metadata": {
    "application/vnd.databricks.v1+cell": {
     "cellMetadata": {},
     "inputWidgets": {},
     "nuid": "4ec1b297-88c2-4bbf-86fe-66362919062a",
     "showTitle": false,
     "title": ""
    }
   },
   "source": [
    "A acurácia do modelo é exibida, indicando a porcentagem de classificações corretas realizadas pelo modelo no conjunto de teste. Um valor de 0.978 sugere que a rede neural classificou corretamente aproximadamente 97.8% das flores."
   ]
  },
  {
   "cell_type": "markdown",
   "metadata": {
    "application/vnd.databricks.v1+cell": {
     "cellMetadata": {},
     "inputWidgets": {},
     "nuid": "1f233896-be34-46ee-8b0b-b21d4c52e6b7",
     "showTitle": false,
     "title": ""
    }
   },
   "source": [
    "### Conclusão\n",
    "Neste notebook, utilizamos uma Rede Neural com Multi-Layer Perceptron para classificar o conjunto de dados iris. A abordagem demonstrou uma alta acurácia de 97.8%, indicando que o modelo conseguiu capturar bem os padrões nas características das flores e realizar previsões precisas.\n",
    "\n",
    "Essa análise mostra a eficácia do MLP para tarefas de classificação e como o Apache Spark, em combinação com o MLlib, pode ser utilizado para construir e treinar modelos complexos em conjuntos de dados relativamente pequenos. Em notebooks futuros, poderíamos explorar diferentes arquiteturas de rede, ajustar hiperparâmetros ou até comparar o desempenho do MLP com outros algoritmos de classificação."
   ]
  }
 ],
 "metadata": {
  "application/vnd.databricks.v1+notebook": {
   "dashboards": [],
   "environmentMetadata": null,
   "language": "python",
   "notebookMetadata": {
    "pythonIndentUnit": 4
   },
   "notebookName": "Multilayer",
   "widgets": {}
  },
  "kernelspec": {
   "display_name": "Python 3",
   "language": "python",
   "name": "python3"
  },
  "language_info": {
   "codemirror_mode": {
    "name": "ipython",
    "version": 3
   },
   "file_extension": ".py",
   "mimetype": "text/x-python",
   "name": "python",
   "nbconvert_exporter": "python",
   "pygments_lexer": "ipython3",
   "version": "3.8.8"
  }
 },
 "nbformat": 4,
 "nbformat_minor": 0
}
