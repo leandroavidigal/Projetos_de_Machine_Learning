{
 "cells": [
  {
   "cell_type": "markdown",
   "metadata": {
    "application/vnd.databricks.v1+cell": {
     "cellMetadata": {},
     "inputWidgets": {},
     "nuid": "d941d635-a179-4a1d-a740-383a25293ca7",
     "showTitle": false,
     "title": ""
    }
   },
   "source": [
    "## Regressão Linear com Databricks e MLlib: Análise de Dados Automotivos"
   ]
  },
  {
   "cell_type": "markdown",
   "metadata": {
    "application/vnd.databricks.v1+cell": {
     "cellMetadata": {},
     "inputWidgets": {},
     "nuid": "d5ae61a9-37b2-470a-aa6f-3371393fb582",
     "showTitle": false,
     "title": ""
    }
   },
   "source": [
    "### Introdução\n",
    "Neste notebook, realizaremos uma análise de regressão linear utilizando o conjunto de dados de automóveis (Carros.csv). Nosso objetivo é prever a potência do motor (HP) com base em outras características dos veículos, como consumo de combustível (Consumo), número de cilindros (Cilindros) e cilindrada do motor (Cilindradas). Utilizaremos a biblioteca MLlib, nativa do Apache Spark, para construir e avaliar o modelo de regressão linear.\n",
    "\n",
    "A regressão linear é uma técnica estatística utilizada para modelar a relação entre uma variável dependente e uma ou mais variáveis independentes. No contexto deste notebook, HP será nossa variável dependente, e as demais características dos veículos serão as variáveis independentes."
   ]
  },
  {
   "cell_type": "markdown",
   "metadata": {
    "application/vnd.databricks.v1+cell": {
     "cellMetadata": {},
     "inputWidgets": {},
     "nuid": "712366a7-b0b5-4d25-bfbd-217dd689db4b",
     "showTitle": false,
     "title": ""
    }
   },
   "source": [
    "### Desenvolvimento\n",
    "#### Importação das Bibliotecas e Carregamento dos Dados\n",
    "Primeiro, importamos as bibliotecas necessárias para a execução das tarefas de Machine Learning, incluindo as classes para regressão linear, avaliação de regressão e montagem de vetores de características."
   ]
  },
  {
   "cell_type": "code",
   "execution_count": 0,
   "metadata": {
    "application/vnd.databricks.v1+cell": {
     "cellMetadata": {
      "byteLimit": 2048000,
      "rowLimit": 10000
     },
     "inputWidgets": {},
     "nuid": "22564f38-debb-4932-b129-6e6fd4c40b43",
     "showTitle": false,
     "title": ""
    }
   },
   "outputs": [],
   "source": [
    "from pyspark.ml.regression import LinearRegression, RandomForestRegressor\n",
    "from pyspark.ml.evaluation import RegressionEvaluator\n",
    "from pyspark.ml.feature import VectorAssembler"
   ]
  },
  {
   "cell_type": "markdown",
   "metadata": {
    "application/vnd.databricks.v1+cell": {
     "cellMetadata": {},
     "inputWidgets": {},
     "nuid": "6a67ee76-467d-43b3-99dc-17e124e8574b",
     "showTitle": false,
     "title": ""
    }
   },
   "source": [
    "Em seguida, carregamos o conjunto de dados Carros.csv em um DataFrame do Spark, permitindo a manipulação e análise dos dados."
   ]
  },
  {
   "cell_type": "code",
   "execution_count": 0,
   "metadata": {
    "application/vnd.databricks.v1+cell": {
     "cellMetadata": {
      "byteLimit": 2048000,
      "rowLimit": 10000
     },
     "inputWidgets": {},
     "nuid": "dc52b895-ea64-4865-aeca-196c6e56d80b",
     "showTitle": false,
     "title": ""
    }
   },
   "outputs": [
    {
     "output_type": "stream",
     "name": "stdout",
     "output_type": "stream",
     "text": [
      "+-------+---------+-----------+---------------+----+-----+---------+-----------+-------+-----------+---+\n|Consumo|Cilindros|Cilindradas|RelEixoTraseiro|Peso|Tempo|TipoMotor|Transmissao|Marchas|Carburadors| HP|\n+-------+---------+-----------+---------------+----+-----+---------+-----------+-------+-----------+---+\n|     21|        6|        160|             39| 262| 1646|        0|          1|      4|          4|110|\n|     21|        6|        160|             39|2875| 1702|        0|          1|      4|          4|110|\n|    228|        4|        108|            385| 232| 1861|        1|          1|      4|          1| 93|\n|    214|        6|        258|            308|3215| 1944|        1|          0|      3|          1|110|\n|    187|        8|        360|            315| 344| 1702|        0|          0|      3|          2|175|\n+-------+---------+-----------+---------------+----+-----+---------+-----------+-------+-----------+---+\nonly showing top 5 rows\n\n"
     ]
    }
   ],
   "source": [
    "#importa\n",
    "Carros_temp = spark.read.csv(\"/FileStore/tables/Carros.csv\",inferSchema=True, header=True, sep=\";\")\n",
    "Carros_temp.show(5)"
   ]
  },
  {
   "cell_type": "markdown",
   "metadata": {
    "application/vnd.databricks.v1+cell": {
     "cellMetadata": {},
     "inputWidgets": {},
     "nuid": "2e42aac6-4e88-4170-abdf-c6d40bd9d4b5",
     "showTitle": false,
     "title": ""
    }
   },
   "source": [
    "O conjunto de dados é exibido, mostrando as primeiras 5 linhas para verificar se foi carregado corretamente. O arquivo contém várias colunas com características dos veículos, incluindo Consumo, Cilindros, Cilindradas, e HP."
   ]
  },
  {
   "cell_type": "markdown",
   "metadata": {
    "application/vnd.databricks.v1+cell": {
     "cellMetadata": {},
     "inputWidgets": {},
     "nuid": "aa3f9e0d-bca1-4014-b3c2-c4f1ec8ce56b",
     "showTitle": false,
     "title": ""
    }
   },
   "source": [
    "#### Seleção de Colunas Relevantes\n",
    "Para simplificar a análise, selecionamos apenas as colunas que serão utilizadas como variáveis independentes (Consumo, Cilindros, Cilindradas) e a variável dependente (HP)."
   ]
  },
  {
   "cell_type": "code",
   "execution_count": 0,
   "metadata": {
    "application/vnd.databricks.v1+cell": {
     "cellMetadata": {
      "byteLimit": 2048000,
      "rowLimit": 10000
     },
     "inputWidgets": {},
     "nuid": "a3fca0a8-08cd-42b9-811e-b6ecdc40bb45",
     "showTitle": false,
     "title": ""
    }
   },
   "outputs": [
    {
     "output_type": "stream",
     "name": "stdout",
     "output_type": "stream",
     "text": [
      "+-------+---------+-----------+---+\n|Consumo|Cilindros|Cilindradas| HP|\n+-------+---------+-----------+---+\n|     21|        6|        160|110|\n|     21|        6|        160|110|\n|    228|        4|        108| 93|\n|    214|        6|        258|110|\n|    187|        8|        360|175|\n+-------+---------+-----------+---+\nonly showing top 5 rows\n\n"
     ]
    }
   ],
   "source": [
    "#separa colunas\n",
    "Carros = Carros_temp.select(\"Consumo\",\"Cilindros\",\"Cilindradas\",\"HP\")\n",
    "Carros.show(5)"
   ]
  },
  {
   "cell_type": "markdown",
   "metadata": {
    "application/vnd.databricks.v1+cell": {
     "cellMetadata": {},
     "inputWidgets": {},
     "nuid": "26d10e87-b1d6-4cb9-badf-2aa0f48748b3",
     "showTitle": false,
     "title": ""
    }
   },
   "source": [
    "As colunas selecionadas são exibidas, garantindo que estamos trabalhando apenas com as informações relevantes para o modelo de regressão."
   ]
  },
  {
   "cell_type": "markdown",
   "metadata": {
    "application/vnd.databricks.v1+cell": {
     "cellMetadata": {},
     "inputWidgets": {},
     "nuid": "2f1e06e1-5fe0-4f8f-b0e1-19a06cb971ea",
     "showTitle": false,
     "title": ""
    }
   },
   "source": [
    "#### Vetorização dos Atributos\n",
    "Nesta etapa, utilizamos o VectorAssembler para transformar as colunas de características (Consumo, Cilindros, Cilindradas) em um único vetor chamado caracteristicas, que será utilizado como entrada para o modelo de regressão."
   ]
  },
  {
   "cell_type": "code",
   "execution_count": 0,
   "metadata": {
    "application/vnd.databricks.v1+cell": {
     "cellMetadata": {
      "byteLimit": 2048000,
      "rowLimit": 10000
     },
     "inputWidgets": {},
     "nuid": "d78cfb1b-876b-4a92-8264-9d5df0207efb",
     "showTitle": false,
     "title": ""
    }
   },
   "outputs": [
    {
     "output_type": "stream",
     "name": "stdout",
     "output_type": "stream",
     "text": [
      "+-------+---------+-----------+---+-----------------+\n|Consumo|Cilindros|Cilindradas| HP|  caracteristicas|\n+-------+---------+-----------+---+-----------------+\n|     21|        6|        160|110| [21.0,6.0,160.0]|\n|     21|        6|        160|110| [21.0,6.0,160.0]|\n|    228|        4|        108| 93|[228.0,4.0,108.0]|\n|    214|        6|        258|110|[214.0,6.0,258.0]|\n|    187|        8|        360|175|[187.0,8.0,360.0]|\n+-------+---------+-----------+---+-----------------+\nonly showing top 5 rows\n\n"
     ]
    }
   ],
   "source": [
    "#vetoriza atributos\n",
    "veccaracteristicas = VectorAssembler(inputCols=[(\"Consumo\"),(\"Cilindros\"),(\"Cilindradas\")],outputCol=\"caracteristicas\")\n",
    "Carros = veccaracteristicas.transform(Carros)\n",
    "Carros.show(5)"
   ]
  },
  {
   "cell_type": "markdown",
   "metadata": {
    "application/vnd.databricks.v1+cell": {
     "cellMetadata": {},
     "inputWidgets": {},
     "nuid": "2784dd1e-a297-4e39-855b-4154c66e9135",
     "showTitle": false,
     "title": ""
    }
   },
   "source": [
    "O DataFrame agora inclui uma nova coluna chamada caracteristicas, que contém vetores numéricos com os valores de Consumo, Cilindros e Cilindradas para cada linha. Essa coluna será usada como features no treinamento do modelo."
   ]
  },
  {
   "cell_type": "markdown",
   "metadata": {
    "application/vnd.databricks.v1+cell": {
     "cellMetadata": {},
     "inputWidgets": {},
     "nuid": "3f02bc43-5465-4962-bb1e-2620ae24e2f9",
     "showTitle": false,
     "title": ""
    }
   },
   "source": [
    "#### Divisão dos Dados em Treino e Teste\n",
    "Dividimos o conjunto de dados em duas partes: 70% para treinamento do modelo (CarrosTreino) e 30% para teste (CarrosTeste). Isso nos permitirá avaliar o desempenho do modelo em dados que ele não viu durante o treinamento."
   ]
  },
  {
   "cell_type": "code",
   "execution_count": 0,
   "metadata": {
    "application/vnd.databricks.v1+cell": {
     "cellMetadata": {
      "byteLimit": 2048000,
      "rowLimit": 10000
     },
     "inputWidgets": {},
     "nuid": "c413c428-f5e8-4d93-b9bf-fd479fd99dcb",
     "showTitle": false,
     "title": ""
    }
   },
   "outputs": [
    {
     "output_type": "stream",
     "name": "stdout",
     "output_type": "stream",
     "text": [
      "21\n11\n"
     ]
    }
   ],
   "source": [
    "#divide treino e teste\n",
    "CarrosTreino, CarrosTeste = Carros.randomSplit([0.7,0.3])\n",
    "print(CarrosTreino.count())\n",
    "print(CarrosTeste.count())"
   ]
  },
  {
   "cell_type": "markdown",
   "metadata": {
    "application/vnd.databricks.v1+cell": {
     "cellMetadata": {},
     "inputWidgets": {},
     "nuid": "bf66fadf-601a-442a-8bd7-d13af560dfa2",
     "showTitle": false,
     "title": ""
    }
   },
   "source": [
    "O número de registros em cada conjunto (treino e teste) é exibido, confirmando a divisão correta dos dados."
   ]
  },
  {
   "cell_type": "markdown",
   "metadata": {
    "application/vnd.databricks.v1+cell": {
     "cellMetadata": {},
     "inputWidgets": {},
     "nuid": "7a4881a6-4ed2-4fa7-8852-cc74610f66dd",
     "showTitle": false,
     "title": ""
    }
   },
   "source": [
    "#### Treinamento do Modelo de Regressão Linear\n",
    "Nesta etapa, utilizamos a classe LinearRegression para treinar o modelo de regressão linear com o conjunto de dados de treinamento. O modelo é ajustado para prever HP com base nas características vetorizadas."
   ]
  },
  {
   "cell_type": "code",
   "execution_count": 0,
   "metadata": {
    "application/vnd.databricks.v1+cell": {
     "cellMetadata": {
      "byteLimit": 2048000,
      "rowLimit": 10000
     },
     "inputWidgets": {},
     "nuid": "7748da9c-02ad-4d61-a371-52ae987633c7",
     "showTitle": false,
     "title": ""
    }
   },
   "outputs": [],
   "source": [
    "#modelo\n",
    "reglin = LinearRegression(featuresCol=\"caracteristicas\", labelCol=\"HP\")\n",
    "modelo = reglin.fit(CarrosTreino)"
   ]
  },
  {
   "cell_type": "markdown",
   "metadata": {
    "application/vnd.databricks.v1+cell": {
     "cellMetadata": {},
     "inputWidgets": {},
     "nuid": "a38c3d56-96e5-4ef2-a5a1-fe4ff91b94d4",
     "showTitle": false,
     "title": ""
    }
   },
   "source": [
    "#### Previsão com o Modelo Treinado\n",
    "Após o treinamento, utilizamos o modelo para prever os valores de HP no conjunto de dados de teste. Essa etapa nos ajuda a verificar quão bem o modelo generaliza para novos dados."
   ]
  },
  {
   "cell_type": "code",
   "execution_count": 0,
   "metadata": {
    "application/vnd.databricks.v1+cell": {
     "cellMetadata": {
      "byteLimit": 2048000,
      "rowLimit": 10000
     },
     "inputWidgets": {},
     "nuid": "6a2eb0da-686a-423f-a6f2-1f6c60a75fb2",
     "showTitle": false,
     "title": ""
    }
   },
   "outputs": [
    {
     "output_type": "stream",
     "name": "stdout",
     "output_type": "stream",
     "text": [
      "+-------+---------+-----------+---+------------------+------------------+\n|Consumo|Cilindros|Cilindradas| HP|   caracteristicas|        prediction|\n+-------+---------+-----------+---+------------------+------------------+\n|     26|        4|       1203| 91| [26.0,4.0,1203.0]|    90.14079421687|\n|    133|        8|        350|245| [133.0,8.0,350.0]|204.69604951890366|\n|    147|        8|        440|230| [147.0,8.0,440.0]|202.14955514242703|\n|    164|        8|       2758|180|[164.0,8.0,2758.0]|188.25654575168463|\n|    192|        8|        400|175| [192.0,8.0,400.0]|195.57463530234685|\n|    197|        6|        145|175| [197.0,6.0,145.0]| 132.8279309262573|\n|    214|        4|        121|109| [214.0,4.0,121.0]| 67.14613999731509|\n|    228|        4|       1408| 95|[228.0,4.0,1408.0]| 58.74619379679286|\n|    304|        4|        951|113| [304.0,4.0,951.0]| 49.54630770238324|\n|    324|        4|        787| 66| [324.0,4.0,787.0]| 47.33916265514848|\n|    339|        4|        711| 65| [339.0,4.0,711.0]| 45.45396908632214|\n+-------+---------+-----------+---+------------------+------------------+\n\n"
     ]
    }
   ],
   "source": [
    "#prever\n",
    "previsao = modelo.transform(CarrosTeste)\n",
    "previsao.show(11)"
   ]
  },
  {
   "cell_type": "markdown",
   "metadata": {
    "application/vnd.databricks.v1+cell": {
     "cellMetadata": {},
     "inputWidgets": {},
     "nuid": "c6000f0c-9337-483b-a2cf-c85cf04efa57",
     "showTitle": false,
     "title": ""
    }
   },
   "source": [
    "As previsões de HP são exibidas ao lado dos valores reais de HP para os primeiros 11 registros do conjunto de teste. Isso nos permite comparar diretamente as previsões com os valores reais."
   ]
  },
  {
   "cell_type": "markdown",
   "metadata": {
    "application/vnd.databricks.v1+cell": {
     "cellMetadata": {},
     "inputWidgets": {},
     "nuid": "0ff9bf0a-5516-47b2-8d35-10dbf9180bcb",
     "showTitle": false,
     "title": ""
    }
   },
   "source": [
    "#### Avaliação da Performance do Modelo\n",
    "Finalmente, avaliamos a performance do modelo utilizando a métrica de erro quadrático médio (RMSE). Um valor mais baixo de RMSE indica que o modelo tem uma precisão maior."
   ]
  },
  {
   "cell_type": "code",
   "execution_count": 0,
   "metadata": {
    "application/vnd.databricks.v1+cell": {
     "cellMetadata": {
      "byteLimit": 2048000,
      "rowLimit": 10000
     },
     "inputWidgets": {},
     "nuid": "84598cff-43a8-452c-b26d-38057063594b",
     "showTitle": false,
     "title": ""
    }
   },
   "outputs": [
    {
     "output_type": "stream",
     "name": "stdout",
     "output_type": "stream",
     "text": [
      "33.70121769541871\n"
     ]
    }
   ],
   "source": [
    "#avaliar performance\n",
    "avaliar = RegressionEvaluator(predictionCol=\"prediction\", labelCol=\"HP\",metricName='rmse')\n",
    "rmse = avaliar.evaluate(previsao)\n",
    "print(rmse)"
   ]
  },
  {
   "cell_type": "markdown",
   "metadata": {
    "application/vnd.databricks.v1+cell": {
     "cellMetadata": {},
     "inputWidgets": {},
     "nuid": "29635815-2e8c-4ce0-80d1-a6ad7fde284a",
     "showTitle": false,
     "title": ""
    }
   },
   "source": [
    "#### Conclusão\n",
    "O valor de RMSE (Root Mean Square Error) encontrado foi de 33.70. Esse valor representa a média dos erros ao quadrado entre os valores preditos pelo modelo de regressão linear e os valores reais da variável HP no conjunto de dados de teste. Um RMSE menor indica que as previsões do modelo estão mais próximas dos valores reais, o que, em geral, reflete um modelo mais preciso.\n",
    "\n",
    "No contexto dos dados automotivos que estamos analisando, um RMSE de 33.70 sugere que o modelo de regressão linear conseguiu capturar parte das relações entre as variáveis de entrada (Consumo, Cilindros, Cilindradas) e a potência do motor (HP), mas ainda há espaço para melhorias. Esse valor pode ser considerado relativamente elevado dependendo da escala da variável HP, o que indica que o modelo pode estar subestimando ou superestimando as previsões em uma margem significativa.\n",
    "\n",
    "Para melhorar a performance do modelo, podemos explorar outras técnicas de regressão, como o uso de árvores de decisão ou florestas aleatórias, ajustar os parâmetros do modelo ou até mesmo incluir mais características que possam ajudar a explicar melhor a variável HP. Além disso, uma análise mais profunda dos dados, como a normalização das variáveis ou a remoção de outliers, também pode contribuir para a redução do erro.\n",
    "\n",
    "Em notebooks futuros, podemos explorar essas alternativas e comparar os resultados para determinar a abordagem mais eficaz para prever a potência do motor dos veículos com base nas características disponíveis."
   ]
  },
  {
   "cell_type": "code",
   "execution_count": 0,
   "metadata": {
    "application/vnd.databricks.v1+cell": {
     "cellMetadata": {
      "byteLimit": 2048000,
      "rowLimit": 10000
     },
     "inputWidgets": {},
     "nuid": "4ee1f65a-42be-4428-a10f-d1d7584c6495",
     "showTitle": false,
     "title": ""
    }
   },
   "outputs": [],
   "source": []
  }
 ],
 "metadata": {
  "application/vnd.databricks.v1+notebook": {
   "dashboards": [],
   "environmentMetadata": null,
   "language": "python",
   "notebookMetadata": {
    "pythonIndentUnit": 2
   },
   "notebookName": "RegressaoLinear",
   "widgets": {}
  }
 },
 "nbformat": 4,
 "nbformat_minor": 0
}
