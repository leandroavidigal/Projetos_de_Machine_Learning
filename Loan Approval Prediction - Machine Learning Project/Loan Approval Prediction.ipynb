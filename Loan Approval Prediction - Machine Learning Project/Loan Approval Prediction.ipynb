{
 "cells": [
  {
   "cell_type": "markdown",
   "metadata": {},
   "source": [
    "## Loan Approval Prediction"
   ]
  },
  {
   "cell_type": "markdown",
   "metadata": {},
   "source": [
    "### Projeto de Machine Learning de Ponta a Ponta: Prevendo Aprovação de Empréstimos"
   ]
  },
  {
   "cell_type": "markdown",
   "metadata": {},
   "source": [
    "### Descrição do Projeto\n",
    "\n",
    "Este é um projeto completo de machine learning com o objetivo de prever a aprovação de empréstimos com base em características pessoais e financeiras dos solicitantes. O modelo foi desenvolvido para aprender padrões e relações entre variáveis, como renda do solicitante, histórico de crédito e status de casamento, para prever se o empréstimo será aprovado. Este repositório inclui todas as etapas do projeto, desde a coleta e preparação dos dados até o treinamento e avaliação do modelo, além de preparar o modelo para deploy."
   ]
  },
  {
   "cell_type": "markdown",
   "metadata": {},
   "source": [
    "### Objetivo do Projeto\n",
    "\n",
    "O objetivo é construir um modelo que possa prever se um solicitante terá seu empréstimo aprovado ou não. Isso ajuda instituições financeiras a tomarem decisões de crédito mais rápidas e eficazes."
   ]
  },
  {
   "cell_type": "markdown",
   "metadata": {},
   "source": [
    "### Conjunto de Dados\n",
    "\n",
    "O conjunto de dados utilizado contém informações de vários solicitantes e inclui as seguintes variáveis:\n",
    "\n",
    "- **Loan_ID**: Identificação única de cada solicitação de empréstimo\n",
    "- **Gender**: Gênero do solicitante\n",
    "- **Married**: Status de casamento do solicitante\n",
    "- **Dependents**: Número de dependentes do solicitante\n",
    "- **Education**: Nível de escolaridade\n",
    "- **Self_Employed**: Indica se o solicitante é autônomo\n",
    "- **ApplicantIncome**: Renda mensal do solicitante\n",
    "- **CoapplicantIncome**: Renda mensal do co-solicitante, se houver\n",
    "- **LoanAmount**: Valor solicitado de empréstimo\n",
    "- **Loan_Amount_Term**: Prazo do empréstimo em meses\n",
    "- **Credit_History**: Histórico de crédito\n",
    "- **Property_Area**: Localização do imóvel\n",
    "- **Loan_Status**: Status de aprovação do empréstimo (variável alvo)\n",
    "\n",
    "O dataset utilizado está disponível no arquivo **LoanData.csv** "
   ]
  },
  {
   "cell_type": "markdown",
   "metadata": {},
   "source": [
    "### Estrutura do Projeto\n",
    "\n",
    "- **loan_approval_project.ipynb**: Notebook Jupyter com todas as etapas do projeto.\n",
    "- **LoanData.csv**: Conjunto de dados utilizado para treinar o modelo.\n",
    "- **loan_approval_model.pkl**: Modelo treinado salvo para deploy.\n",
    "- **loan_test_data.csv**: Dados de teste utilizados na avaliação do modelo."
   ]
  },
  {
   "cell_type": "markdown",
   "metadata": {},
   "source": [
    "### Tecnologias Utilizadas\n",
    "\n",
    "- **Python 3.9**\n",
    "- **Pandas** - Para manipulação de dados.\n",
    "- **NumPy** - Para cálculos matemáticos.\n",
    "- **Matplotlib & Seaborn** - Para visualização de dados.\n",
    "- **Scikit-learn** - Para pré-processamento, modelagem e avaliação.\n",
    "- **Imbalanced-learn** - Para balanceamento de classes com SMOTE.\n",
    "- **Joblib** - Para salvar o modelo treinado.\n",
    "- **Jupyter Notebook** - Para desenvolvimento interativo."
   ]
  },
  {
   "cell_type": "markdown",
   "metadata": {},
   "source": [
    "### 1. Importação de Bibliotecas e Configurações Iniciais"
   ]
  },
  {
   "cell_type": "code",
   "execution_count": 3,
   "metadata": {},
   "outputs": [],
   "source": [
    "# Importação das bibliotecas essenciais\n",
    "import pandas as pd\n",
    "import numpy as np\n",
    "import matplotlib.pyplot as plt\n",
    "import seaborn as sns\n",
    "\n",
    "# Bibliotecas para o modelo\n",
    "from sklearn.model_selection import train_test_split, cross_val_score\n",
    "from sklearn.preprocessing import StandardScaler\n",
    "from sklearn.ensemble import RandomForestClassifier\n",
    "from sklearn.metrics import accuracy_score, confusion_matrix, classification_report\n",
    "from imblearn.over_sampling import SMOTE\n",
    "\n",
    "# Ignorar avisos desnecessários\n",
    "import warnings\n",
    "warnings.filterwarnings(\"ignore\")\n",
    "\n",
    "# Definir estilo visual\n",
    "plt.style.use('fivethirtyeight')"
   ]
  },
  {
   "cell_type": "markdown",
   "metadata": {},
   "source": [
    "### 2. Carregamento e Análise Exploratória dos Dados (EDA)"
   ]
  },
  {
   "cell_type": "code",
   "execution_count": 4,
   "metadata": {},
   "outputs": [
    {
     "name": "stdout",
     "output_type": "stream",
     "text": [
      "    Loan_ID Gender Married Dependents     Education Self_Employed  \\\n",
      "0  LP001002   Male      No          0      Graduate            No   \n",
      "1  LP001003   Male     Yes          1      Graduate            No   \n",
      "2  LP001005   Male     Yes          0      Graduate           Yes   \n",
      "3  LP001006   Male     Yes          0  Not Graduate            No   \n",
      "4  LP001008   Male      No          0      Graduate            No   \n",
      "\n",
      "   ApplicantIncome  CoapplicantIncome  LoanAmount  Loan_Amount_Term  \\\n",
      "0             5849                0.0         NaN             360.0   \n",
      "1             4583             1508.0       128.0             360.0   \n",
      "2             3000                0.0        66.0             360.0   \n",
      "3             2583             2358.0       120.0             360.0   \n",
      "4             6000                0.0       141.0             360.0   \n",
      "\n",
      "   Credit_History Property_Area Loan_Status  \n",
      "0             1.0         Urban           Y  \n",
      "1             1.0         Rural           N  \n",
      "2             1.0         Urban           Y  \n",
      "3             1.0         Urban           Y  \n",
      "4             1.0         Urban           Y  \n"
     ]
    }
   ],
   "source": [
    "# Carregar o dataset\n",
    "data = pd.read_csv('LoanData.csv')\n",
    "\n",
    "# Exibir as 5 primeiras linhas\n",
    "print(data.head())"
   ]
  },
  {
   "cell_type": "code",
   "execution_count": 5,
   "metadata": {},
   "outputs": [
    {
     "name": "stdout",
     "output_type": "stream",
     "text": [
      "Shape do dataset: (614, 13)\n"
     ]
    }
   ],
   "source": [
    "# Verificar o tamanho do dataset\n",
    "print(f\"Shape do dataset: {data.shape}\")"
   ]
  },
  {
   "cell_type": "code",
   "execution_count": 6,
   "metadata": {},
   "outputs": [
    {
     "name": "stdout",
     "output_type": "stream",
     "text": [
      "       ApplicantIncome  CoapplicantIncome  LoanAmount  Loan_Amount_Term  \\\n",
      "count       614.000000         614.000000  592.000000         600.00000   \n",
      "mean       5403.459283        1621.245798  146.412162         342.00000   \n",
      "std        6109.041673        2926.248369   85.587325          65.12041   \n",
      "min         150.000000           0.000000    9.000000          12.00000   \n",
      "25%        2877.500000           0.000000  100.000000         360.00000   \n",
      "50%        3812.500000        1188.500000  128.000000         360.00000   \n",
      "75%        5795.000000        2297.250000  168.000000         360.00000   \n",
      "max       81000.000000       41667.000000  700.000000         480.00000   \n",
      "\n",
      "       Credit_History  \n",
      "count      564.000000  \n",
      "mean         0.842199  \n",
      "std          0.364878  \n",
      "min          0.000000  \n",
      "25%          1.000000  \n",
      "50%          1.000000  \n",
      "75%          1.000000  \n",
      "max          1.000000  \n"
     ]
    }
   ],
   "source": [
    "# Análises estatísticas dos valores numéricos\n",
    "print(data.describe())"
   ]
  },
  {
   "cell_type": "code",
   "execution_count": 7,
   "metadata": {},
   "outputs": [
    {
     "name": "stdout",
     "output_type": "stream",
     "text": [
      "         Loan_ID Gender Married Dependents Education Self_Employed  \\\n",
      "count        614    601     611        599       614           582   \n",
      "unique       614      2       2          4         2             2   \n",
      "top     LP001002   Male     Yes          0  Graduate            No   \n",
      "freq           1    489     398        345       480           500   \n",
      "\n",
      "       Property_Area Loan_Status  \n",
      "count            614         614  \n",
      "unique             3           2  \n",
      "top        Semiurban           Y  \n",
      "freq             233         422  \n"
     ]
    }
   ],
   "source": [
    "# Análise das variáveis categóricas\n",
    "print(data.describe(include='object'))"
   ]
  },
  {
   "cell_type": "code",
   "execution_count": 8,
   "metadata": {},
   "outputs": [
    {
     "name": "stdout",
     "output_type": "stream",
     "text": [
      "Loan_ID               0\n",
      "Gender               13\n",
      "Married               3\n",
      "Dependents           15\n",
      "Education             0\n",
      "Self_Employed        32\n",
      "ApplicantIncome       0\n",
      "CoapplicantIncome     0\n",
      "LoanAmount           22\n",
      "Loan_Amount_Term     14\n",
      "Credit_History       50\n",
      "Property_Area         0\n",
      "Loan_Status           0\n",
      "dtype: int64\n"
     ]
    }
   ],
   "source": [
    "# Verificar valores ausentes\n",
    "print(data.isnull().sum())"
   ]
  },
  {
   "cell_type": "markdown",
   "metadata": {},
   "source": [
    "### 3. Tratamento de Valores Nulos e Outliers"
   ]
  },
  {
   "cell_type": "code",
   "execution_count": 9,
   "metadata": {},
   "outputs": [
    {
     "name": "stdout",
     "output_type": "stream",
     "text": [
      "Valores ausentes restantes: 0\n"
     ]
    },
    {
     "data": {
      "image/png": "[encoded data removed]",
      "text/plain": [
       "<Figure size 1080x288 with 3 Axes>"
      ]
     },
     "metadata": {},
     "output_type": "display_data"
    }
   ],
   "source": [
    "# Preencher valores nulos para variáveis categóricas com a moda\n",
    "data['Gender'] = data['Gender'].fillna(data['Gender'].mode()[0])\n",
    "data['Married'] = data['Married'].fillna(data['Married'].mode()[0])\n",
    "data['Dependents'] = data['Dependents'].fillna(data['Dependents'].mode()[0])\n",
    "data['Self_Employed'] = data['Self_Employed'].fillna(data['Self_Employed'].mode()[0])\n",
    "\n",
    "# Preencher valores nulos para variáveis numéricas com a mediana\n",
    "data['LoanAmount'] = data['LoanAmount'].fillna(data['LoanAmount'].median())\n",
    "data['Loan_Amount_Term'] = data['Loan_Amount_Term'].fillna(data['Loan_Amount_Term'].median())\n",
    "data['Credit_History'] = data['Credit_History'].fillna(data['Credit_History'].median())\n",
    "\n",
    "# Verificar novamente valores ausentes\n",
    "print(f\"Valores ausentes restantes: {data.isnull().sum().sum()}\")\n",
    "\n",
    "# Visualizar possíveis outliers com boxplot\n",
    "plt.figure(figsize=(15, 4))\n",
    "plt.subplot(1, 3, 1)\n",
    "sns.boxplot(data['ApplicantIncome'])\n",
    "plt.subplot(1, 3, 2)\n",
    "sns.boxplot(data['CoapplicantIncome'])\n",
    "plt.subplot(1, 3, 3)\n",
    "sns.boxplot(data['LoanAmount'])\n",
    "plt.suptitle('Outliers nas variáveis numéricas')\n",
    "plt.show()"
   ]
  },
  {
   "cell_type": "markdown",
   "metadata": {},
   "source": [
    "### 4. Transformação e Encoding de Variáveis"
   ]
  },
  {
   "cell_type": "code",
   "execution_count": 10,
   "metadata": {},
   "outputs": [],
   "source": [
    "# Transformação log nas variáveis com skewness\n",
    "data['ApplicantIncome'] = np.log(data['ApplicantIncome'])\n",
    "data['CoapplicantIncome'] = np.log1p(data['CoapplicantIncome'])\n",
    "\n",
    "# Remover a coluna Loan_ID\n",
    "data = data.drop('Loan_ID', axis=1)\n",
    "\n",
    "# Encoding de variáveis categóricas\n",
    "data['Gender'] = data['Gender'].replace(('Male', 'Female'), (1, 0))\n",
    "data['Married'] = data['Married'].replace(('Yes', 'No'), (1, 0))\n",
    "data['Education'] = data['Education'].replace(('Graduate', 'Not Graduate'), (1, 0))\n",
    "data['Self_Employed'] = data['Self_Employed'].replace(('Yes', 'No'), (1, 0))\n",
    "data['Loan_Status'] = data['Loan_Status'].replace(('Y', 'N'), (1, 0))\n",
    "data['Property_Area'] = data['Property_Area'].replace(('Urban', 'Semiurban', 'Rural'), (1, 1, 0))\n",
    "data['Dependents'] = data['Dependents'].replace(('0', '1', '2', '3+'), (0, 1, 1, 1))"
   ]
  },
  {
   "cell_type": "markdown",
   "metadata": {},
   "source": [
    "### 5. Separação das Variáveis Preditoras e Variável Alvo"
   ]
  },
  {
   "cell_type": "code",
   "execution_count": 11,
   "metadata": {},
   "outputs": [
    {
     "name": "stdout",
     "output_type": "stream",
     "text": [
      "Shape de X: (614, 11)\n",
      "Shape de y: (614,)\n"
     ]
    }
   ],
   "source": [
    "# Separar variáveis preditoras (X) e variável alvo (y)\n",
    "X = data.drop('Loan_Status', axis=1)\n",
    "y = data['Loan_Status']\n",
    "\n",
    "print(f\"Shape de X: {X.shape}\")\n",
    "print(f\"Shape de y: {y.shape}\")"
   ]
  },
  {
   "cell_type": "markdown",
   "metadata": {},
   "source": [
    "### 6. Balanceamento de Classes com SMOTE"
   ]
  },
  {
   "cell_type": "code",
   "execution_count": 12,
   "metadata": {},
   "outputs": [
    {
     "name": "stdout",
     "output_type": "stream",
     "text": [
      "Distribuição das classes após o balanceamento:\n",
      "1    422\n",
      "0    422\n",
      "Name: Loan_Status, dtype: int64\n"
     ]
    }
   ],
   "source": [
    "# Aplicar SMOTE para balancear as classes\n",
    "X_resample, y_resample = SMOTE().fit_resample(X, y)\n",
    "\n",
    "print(\"Distribuição das classes após o balanceamento:\")\n",
    "print(pd.Series(y_resample).value_counts())"
   ]
  },
  {
   "cell_type": "markdown",
   "metadata": {},
   "source": [
    "### 7. Separação dos Dados de Treinamento e Teste"
   ]
  },
  {
   "cell_type": "code",
   "execution_count": 13,
   "metadata": {},
   "outputs": [
    {
     "name": "stdout",
     "output_type": "stream",
     "text": [
      "Shape de X_train: (675, 11)\n",
      "Shape de y_train: (675,)\n",
      "Shape de X_test: (169, 11)\n",
      "Shape de y_test: (169,)\n"
     ]
    }
   ],
   "source": [
    "# Separar dados em treino e teste\n",
    "X_train, X_test, y_train, y_test = train_test_split(X_resample, y_resample, test_size=0.2, random_state=42)\n",
    "\n",
    "print(f\"Shape de X_train: {X_train.shape}\")\n",
    "print(f\"Shape de y_train: {y_train.shape}\")\n",
    "print(f\"Shape de X_test: {X_test.shape}\")\n",
    "print(f\"Shape de y_test: {y_test.shape}\")"
   ]
  },
  {
   "cell_type": "markdown",
   "metadata": {},
   "source": [
    "### 8. Treinamento do Modelo (Random Forest Classifier)"
   ]
  },
  {
   "cell_type": "code",
   "execution_count": 14,
   "metadata": {},
   "outputs": [
    {
     "name": "stdout",
     "output_type": "stream",
     "text": [
      "Acurácia no conjunto de teste: 81.07%\n"
     ]
    }
   ],
   "source": [
    "# Treinamento com Random Forest\n",
    "model = RandomForestClassifier(n_estimators=200, random_state=42)\n",
    "model.fit(X_train, y_train)\n",
    "\n",
    "# Avaliar no conjunto de teste\n",
    "y_pred = model.predict(X_test)\n",
    "\n",
    "# Avaliar acurácia\n",
    "accuracy = accuracy_score(y_test, y_pred)\n",
    "print(f\"Acurácia no conjunto de teste: {accuracy * 100:.2f}%\")"
   ]
  },
  {
   "cell_type": "markdown",
   "metadata": {},
   "source": [
    "### 9. Avaliação do Modelo"
   ]
  },
  {
   "cell_type": "code",
   "execution_count": 15,
   "metadata": {},
   "outputs": [
    {
     "data": {
      "image/png": "[encoded data removed]",
      "text/plain": [
       "<Figure size 360x360 with 2 Axes>"
      ]
     },
     "metadata": {},
     "output_type": "display_data"
    },
    {
     "name": "stdout",
     "output_type": "stream",
     "text": [
      "Relatório de classificação:\n",
      "               precision    recall  f1-score   support\n",
      "\n",
      "           0       0.89      0.76      0.82        94\n",
      "           1       0.74      0.88      0.80        75\n",
      "\n",
      "    accuracy                           0.81       169\n",
      "   macro avg       0.81      0.82      0.81       169\n",
      "weighted avg       0.82      0.81      0.81       169\n",
      "\n"
     ]
    }
   ],
   "source": [
    "# Matriz de confusão\n",
    "cm = confusion_matrix(y_test, y_pred)\n",
    "plt.figure(figsize=(5, 5))\n",
    "sns.heatmap(cm, annot=True, fmt=\"d\", cmap='Blues')\n",
    "plt.title('Matriz de Confusão')\n",
    "plt.show()\n",
    "\n",
    "# Relatório de Classificação\n",
    "print(\"Relatório de classificação:\\n\", classification_report(y_test, y_pred))"
   ]
  },
  {
   "cell_type": "markdown",
   "metadata": {},
   "source": [
    "### 10. Validação Cruzada"
   ]
  },
  {
   "cell_type": "code",
   "execution_count": 16,
   "metadata": {},
   "outputs": [
    {
     "name": "stdout",
     "output_type": "stream",
     "text": [
      "Acurácia média após cross-validation: 0.81\n"
     ]
    }
   ],
   "source": [
    "# Aplicando cross-validation\n",
    "cv_scores = cross_val_score(model, X_train, y_train, cv=5)\n",
    "print(f\"Acurácia média após cross-validation: {cv_scores.mean():.2f}\")"
   ]
  },
  {
   "cell_type": "markdown",
   "metadata": {},
   "source": [
    "### 11. Salvando o Modelo e Preparação para Deploy"
   ]
  },
  {
   "cell_type": "code",
   "execution_count": 17,
   "metadata": {},
   "outputs": [
    {
     "name": "stdout",
     "output_type": "stream",
     "text": [
      "Modelo e dados de teste salvos para deploy.\n"
     ]
    }
   ],
   "source": [
    "# Salvando o modelo com pickle\n",
    "import joblib\n",
    "joblib.dump(model, 'loan_approval_model.pkl')\n",
    "\n",
    "# Salvando o dataset de teste\n",
    "X_test.to_csv('loan_test_data.csv', index=False)\n",
    "\n",
    "print(\"Modelo e dados de teste salvos para deploy.\")"
   ]
  },
  {
   "cell_type": "markdown",
   "metadata": {},
   "source": [
    "### Conclusão\n",
    "\n",
    "Este notebook abrange um projeto completo de machine learning, desde a análise exploratória, passando pelo pré-processamento e treinamento do modelo, até o deploy. Na parte 2, podemos avançar para a criação de uma interface interativa usando Streamlit ou outro framework de deploy, permitindo a interação com o modelo em produção."
   ]
  },
  {
   "cell_type": "code",
   "execution_count": null,
   "metadata": {},
   "outputs": [],
   "source": []
  }
 ],
 "metadata": {
  "colab": {
   "provenance": [],
   "toc_visible": true
  },
  "kernelspec": {
   "display_name": "Python 3 (ipykernel)",
   "language": "python",
   "name": "python3"
  },
  "language_info": {
   "codemirror_mode": {
    "name": "ipython",
    "version": 3
   },
   "file_extension": ".py",
   "mimetype": "text/x-python",
   "name": "python",
   "nbconvert_exporter": "python",
   "pygments_lexer": "ipython3",
   "version": "3.9.12"
  },
  "varInspector": {
   "cols": {
    "lenName": 16,
    "lenType": 16,
    "lenVar": 40
   },
   "kernels_config": {
    "python": {
     "delete_cmd_postfix": "",
     "delete_cmd_prefix": "del ",
     "library": "var_list.py",
     "varRefreshCmd": "print(var_dic_list())"
    },
    "r": {
     "delete_cmd_postfix": ") ",
     "delete_cmd_prefix": "rm(",
     "library": "var_list.r",
     "varRefreshCmd": "cat(var_dic_list()) "
    }
   },
   "types_to_exclude": [
    "module",
    "function",
    "builtin_function_or_method",
    "instance",
    "_Feature"
   ],
   "window_display": false
  }
 },
 "nbformat": 4,
 "nbformat_minor": 1
}
